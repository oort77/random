{
 "cells": [
  {
   "cell_type": "code",
   "execution_count": 1,
   "id": "84d62342-6af6-425e-a08d-fe4c57907afc",
   "metadata": {
    "execution": {
     "iopub.execute_input": "2022-03-04T23:42:22.822304Z",
     "iopub.status.busy": "2022-03-04T23:42:22.822113Z",
     "iopub.status.idle": "2022-03-04T23:42:23.409308Z",
     "shell.execute_reply": "2022-03-04T23:42:23.408836Z",
     "shell.execute_reply.started": "2022-03-04T23:42:22.822251Z"
    }
   },
   "outputs": [],
   "source": [
    "import numpy as np\n",
    "import scipy as sp"
   ]
  },
  {
   "cell_type": "code",
   "execution_count": 66,
   "id": "b880bc1b-e642-42ca-8951-6a4f9ad676ac",
   "metadata": {
    "execution": {
     "iopub.execute_input": "2022-03-05T02:29:36.588942Z",
     "iopub.status.busy": "2022-03-05T02:29:36.588733Z",
     "iopub.status.idle": "2022-03-05T02:29:36.592734Z",
     "shell.execute_reply": "2022-03-05T02:29:36.591897Z",
     "shell.execute_reply.started": "2022-03-05T02:29:36.588925Z"
    },
    "tags": []
   },
   "outputs": [],
   "source": [
    "# User-item matrix: 2 users, 3 items\n",
    "R = np.array([[20, 5, 1],\n",
    "              [0, 12, 0]]) \n",
    "#,[4,0,1]"
   ]
  },
  {
   "cell_type": "code",
   "execution_count": 67,
   "id": "afdf1b7a-fa46-426e-a3e2-62264fc1dc33",
   "metadata": {
    "execution": {
     "iopub.execute_input": "2022-03-05T02:29:37.139016Z",
     "iopub.status.busy": "2022-03-05T02:29:37.138808Z",
     "iopub.status.idle": "2022-03-05T02:29:37.142527Z",
     "shell.execute_reply": "2022-03-05T02:29:37.141742Z",
     "shell.execute_reply.started": "2022-03-05T02:29:37.138997Z"
    },
    "tags": []
   },
   "outputs": [],
   "source": [
    "U, S, Vt = np.linalg.svd(R, full_matrices=True, compute_uv=True)"
   ]
  },
  {
   "cell_type": "markdown",
   "id": "9e4fd857-e58f-4055-a975-e7e482b5e9bc",
   "metadata": {},
   "source": [
    "It makes sense to show rounded values"
   ]
  },
  {
   "cell_type": "code",
   "execution_count": 68,
   "id": "6f87b0d7-5c2d-4df0-bdc6-ac3d56684044",
   "metadata": {
    "execution": {
     "iopub.execute_input": "2022-03-05T02:29:37.596082Z",
     "iopub.status.busy": "2022-03-05T02:29:37.595844Z",
     "iopub.status.idle": "2022-03-05T02:29:37.600652Z",
     "shell.execute_reply": "2022-03-05T02:29:37.599926Z",
     "shell.execute_reply.started": "2022-03-05T02:29:37.596057Z"
    },
    "tags": []
   },
   "outputs": [
    {
     "data": {
      "text/plain": [
       "array([[ 1. , -0.2],\n",
       "       [ 0.2,  1. ]])"
      ]
     },
     "execution_count": 68,
     "metadata": {},
     "output_type": "execute_result"
    }
   ],
   "source": [
    "np.round(U,1)"
   ]
  },
  {
   "cell_type": "markdown",
   "id": "c752d5d3-9539-4829-ba3e-86029a84f42a",
   "metadata": {},
   "source": [
    "U is orthonormal:"
   ]
  },
  {
   "cell_type": "code",
   "execution_count": 82,
   "id": "539af645-3f87-44a2-8eee-aae21ffcdf3d",
   "metadata": {
    "execution": {
     "iopub.execute_input": "2022-03-05T14:06:12.246339Z",
     "iopub.status.busy": "2022-03-05T14:06:12.241562Z",
     "iopub.status.idle": "2022-03-05T14:06:12.284996Z",
     "shell.execute_reply": "2022-03-05T14:06:12.284256Z",
     "shell.execute_reply.started": "2022-03-05T14:06:12.246248Z"
    },
    "tags": []
   },
   "outputs": [
    {
     "data": {
      "text/plain": [
       "array([[ 1., -0.],\n",
       "       [-0.,  1.]])"
      ]
     },
     "execution_count": 82,
     "metadata": {},
     "output_type": "execute_result"
    }
   ],
   "source": [
    "np.round(np.multiply(U,U.T),1)"
   ]
  },
  {
   "cell_type": "code",
   "execution_count": 83,
   "id": "f728c023-31d7-45d0-9965-a8b822b00ffe",
   "metadata": {
    "execution": {
     "iopub.execute_input": "2022-03-05T14:06:14.462908Z",
     "iopub.status.busy": "2022-03-05T14:06:14.462700Z",
     "iopub.status.idle": "2022-03-05T14:06:14.468863Z",
     "shell.execute_reply": "2022-03-05T14:06:14.468153Z",
     "shell.execute_reply.started": "2022-03-05T14:06:14.462891Z"
    },
    "tags": []
   },
   "outputs": [
    {
     "data": {
      "text/plain": [
       "array([20.93406586, 11.47888873])"
      ]
     },
     "execution_count": 83,
     "metadata": {},
     "output_type": "execute_result"
    }
   ],
   "source": [
    "S"
   ]
  },
  {
   "cell_type": "markdown",
   "id": "a8f2c474-4e48-4fd0-8b88-7ababc5e4cdf",
   "metadata": {},
   "source": [
    "Pad sigma matrix with a column of zeros to get (2,3) shape"
   ]
  },
  {
   "cell_type": "code",
   "execution_count": 88,
   "id": "943772a5-7512-44fc-a9e4-a4bcb0b8b5b2",
   "metadata": {
    "execution": {
     "iopub.execute_input": "2022-03-05T14:09:38.209054Z",
     "iopub.status.busy": "2022-03-05T14:09:38.208687Z",
     "iopub.status.idle": "2022-03-05T14:09:38.214866Z",
     "shell.execute_reply": "2022-03-05T14:09:38.214348Z",
     "shell.execute_reply.started": "2022-03-05T14:09:38.209029Z"
    },
    "tags": []
   },
   "outputs": [
    {
     "data": {
      "text/plain": [
       "array([[20.9,  0. ,  0. ],\n",
       "       [ 0. , 11.5,  0. ]])"
      ]
     },
     "execution_count": 88,
     "metadata": {},
     "output_type": "execute_result"
    }
   ],
   "source": [
    "Sigma = np.hstack((np.multiply(S, np.eye(2)),[[0],[0]]))\n",
    "np.round(Sigma,1)"
   ]
  },
  {
   "cell_type": "markdown",
   "id": "3479f403-ec23-41a7-b4a9-ed67d5b85c91",
   "metadata": {},
   "source": [
    "Vt"
   ]
  },
  {
   "cell_type": "code",
   "execution_count": 86,
   "id": "d547cde1-473a-4ca4-81b8-120a50723935",
   "metadata": {
    "execution": {
     "iopub.execute_input": "2022-03-05T14:07:41.262095Z",
     "iopub.status.busy": "2022-03-05T14:07:41.261886Z",
     "iopub.status.idle": "2022-03-05T14:07:41.266646Z",
     "shell.execute_reply": "2022-03-05T14:07:41.265902Z",
     "shell.execute_reply.started": "2022-03-05T14:07:41.262078Z"
    },
    "tags": []
   },
   "outputs": [
    {
     "data": {
      "text/plain": [
       "array([[ 0.9,  0.3,  0. ],\n",
       "       [-0.3,  0.9, -0. ],\n",
       "       [-0. ,  0. ,  1. ]])"
      ]
     },
     "execution_count": 86,
     "metadata": {},
     "output_type": "execute_result"
    }
   ],
   "source": [
    "np.round(Vt,1)"
   ]
  },
  {
   "cell_type": "code",
   "execution_count": 89,
   "id": "25de6830-f271-438a-9ab2-7de075c5d58e",
   "metadata": {
    "execution": {
     "iopub.execute_input": "2022-03-05T14:09:50.439486Z",
     "iopub.status.busy": "2022-03-05T14:09:50.439279Z",
     "iopub.status.idle": "2022-03-05T14:09:50.445207Z",
     "shell.execute_reply": "2022-03-05T14:09:50.444440Z",
     "shell.execute_reply.started": "2022-03-05T14:09:50.439469Z"
    },
    "tags": []
   },
   "outputs": [
    {
     "data": {
      "text/plain": [
       "array([[19.6,  7.3,  1. ],\n",
       "       [-4. , 10.8, -0.2]])"
      ]
     },
     "execution_count": 89,
     "metadata": {},
     "output_type": "execute_result"
    }
   ],
   "source": [
    "X = np.dot(Sigma,Vt)\n",
    "np.round(X,1)"
   ]
  },
  {
   "cell_type": "code",
   "execution_count": 90,
   "id": "36488f3e-c1cd-408e-9ec4-5d06d78c16bf",
   "metadata": {
    "execution": {
     "iopub.execute_input": "2022-03-05T14:10:04.411374Z",
     "iopub.status.busy": "2022-03-05T14:10:04.411140Z",
     "iopub.status.idle": "2022-03-05T14:10:04.421911Z",
     "shell.execute_reply": "2022-03-05T14:10:04.421025Z",
     "shell.execute_reply.started": "2022-03-05T14:10:04.411350Z"
    },
    "tags": []
   },
   "outputs": [
    {
     "data": {
      "text/plain": [
       "array([[20.,  5.,  1.],\n",
       "       [ 0., 12.,  0.]])"
      ]
     },
     "execution_count": 90,
     "metadata": {},
     "output_type": "execute_result"
    }
   ],
   "source": [
    "np.round(np.dot(U, X),1)"
   ]
  },
  {
   "cell_type": "code",
   "execution_count": 92,
   "id": "8a7429e7-9c73-4e72-8106-a5af6254e939",
   "metadata": {
    "execution": {
     "iopub.execute_input": "2022-03-05T14:10:21.561203Z",
     "iopub.status.busy": "2022-03-05T14:10:21.560995Z",
     "iopub.status.idle": "2022-03-05T14:10:21.566292Z",
     "shell.execute_reply": "2022-03-05T14:10:21.565707Z",
     "shell.execute_reply.started": "2022-03-05T14:10:21.561185Z"
    },
    "tags": []
   },
   "outputs": [
    {
     "data": {
      "text/plain": [
       "array([[19.6,  7.3,  1. ],\n",
       "       [-4. , 10.8, -0.2]])"
      ]
     },
     "execution_count": 92,
     "metadata": {},
     "output_type": "execute_result"
    }
   ],
   "source": [
    "np.round(np.dot(U.T,R),1)"
   ]
  },
  {
   "cell_type": "code",
   "execution_count": null,
   "id": "159fe04f-2e96-444f-99ac-6f8fa060b5df",
   "metadata": {},
   "outputs": [],
   "source": []
  },
  {
   "cell_type": "code",
   "execution_count": null,
   "id": "d97a5759-eb81-4dca-a883-fcc651022d40",
   "metadata": {},
   "outputs": [],
   "source": []
  }
 ],
 "metadata": {
  "kernelspec": {
   "display_name": "Python 3 (ipykernel)",
   "language": "python",
   "name": "python3"
  },
  "language_info": {
   "codemirror_mode": {
    "name": "ipython",
    "version": 3
   },
   "file_extension": ".py",
   "mimetype": "text/x-python",
   "name": "python",
   "nbconvert_exporter": "python",
   "pygments_lexer": "ipython3",
   "version": "3.9.7"
  }
 },
 "nbformat": 4,
 "nbformat_minor": 5
}
