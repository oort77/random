{
 "cells": [
  {
   "cell_type": "code",
   "execution_count": 1,
   "id": "84d62342-6af6-425e-a08d-fe4c57907afc",
   "metadata": {
    "execution": {
     "iopub.execute_input": "2022-03-05T14:33:44.278434Z",
     "iopub.status.busy": "2022-03-05T14:33:44.278223Z",
     "iopub.status.idle": "2022-03-05T14:33:44.862287Z",
     "shell.execute_reply": "2022-03-05T14:33:44.861691Z",
     "shell.execute_reply.started": "2022-03-05T14:33:44.278381Z"
    }
   },
   "outputs": [],
   "source": [
    "import numpy as np\n",
    "import scipy as sp"
   ]
  },
  {
   "cell_type": "code",
   "execution_count": 2,
   "id": "b880bc1b-e642-42ca-8951-6a4f9ad676ac",
   "metadata": {
    "execution": {
     "iopub.execute_input": "2022-03-05T14:33:44.863360Z",
     "iopub.status.busy": "2022-03-05T14:33:44.863187Z",
     "iopub.status.idle": "2022-03-05T14:33:44.867150Z",
     "shell.execute_reply": "2022-03-05T14:33:44.866274Z",
     "shell.execute_reply.started": "2022-03-05T14:33:44.863331Z"
    },
    "tags": []
   },
   "outputs": [],
   "source": [
    "# User-item matrix: 2 users, 3 items\n",
    "R = np.array([[20, 5, 1],\n",
    "              [0, 12, 0]]) \n",
    "#,[4,0,1]"
   ]
  },
  {
   "cell_type": "code",
   "execution_count": 3,
   "id": "afdf1b7a-fa46-426e-a3e2-62264fc1dc33",
   "metadata": {
    "execution": {
     "iopub.execute_input": "2022-03-05T14:33:44.867999Z",
     "iopub.status.busy": "2022-03-05T14:33:44.867828Z",
     "iopub.status.idle": "2022-03-05T14:33:44.872687Z",
     "shell.execute_reply": "2022-03-05T14:33:44.871848Z",
     "shell.execute_reply.started": "2022-03-05T14:33:44.867981Z"
    },
    "tags": []
   },
   "outputs": [],
   "source": [
    "U, S, Vt = np.linalg.svd(R, full_matrices=True, compute_uv=True)"
   ]
  },
  {
   "cell_type": "markdown",
   "id": "9e4fd857-e58f-4055-a975-e7e482b5e9bc",
   "metadata": {},
   "source": [
    "It makes sense to show rounded values for better visibility"
   ]
  },
  {
   "cell_type": "code",
   "execution_count": 4,
   "id": "6f87b0d7-5c2d-4df0-bdc6-ac3d56684044",
   "metadata": {
    "execution": {
     "iopub.execute_input": "2022-03-05T14:33:44.874725Z",
     "iopub.status.busy": "2022-03-05T14:33:44.874144Z",
     "iopub.status.idle": "2022-03-05T14:33:44.885290Z",
     "shell.execute_reply": "2022-03-05T14:33:44.884485Z",
     "shell.execute_reply.started": "2022-03-05T14:33:44.874687Z"
    },
    "tags": []
   },
   "outputs": [
    {
     "data": {
      "text/plain": [
       "array([[ 1. , -0.2],\n",
       "       [ 0.2,  1. ]])"
      ]
     },
     "execution_count": 4,
     "metadata": {},
     "output_type": "execute_result"
    }
   ],
   "source": [
    "np.round(U,1)"
   ]
  },
  {
   "cell_type": "markdown",
   "id": "c752d5d3-9539-4829-ba3e-86029a84f42a",
   "metadata": {},
   "source": [
    "U is orthonormal:"
   ]
  },
  {
   "cell_type": "code",
   "execution_count": 5,
   "id": "539af645-3f87-44a2-8eee-aae21ffcdf3d",
   "metadata": {
    "execution": {
     "iopub.execute_input": "2022-03-05T14:33:44.886586Z",
     "iopub.status.busy": "2022-03-05T14:33:44.886085Z",
     "iopub.status.idle": "2022-03-05T14:33:44.891108Z",
     "shell.execute_reply": "2022-03-05T14:33:44.890422Z",
     "shell.execute_reply.started": "2022-03-05T14:33:44.886559Z"
    },
    "tags": []
   },
   "outputs": [
    {
     "data": {
      "text/plain": [
       "array([[ 1., -0.],\n",
       "       [-0.,  1.]])"
      ]
     },
     "execution_count": 5,
     "metadata": {},
     "output_type": "execute_result"
    }
   ],
   "source": [
    "np.round(np.multiply(U,U.T),1)"
   ]
  },
  {
   "cell_type": "code",
   "execution_count": 6,
   "id": "f728c023-31d7-45d0-9965-a8b822b00ffe",
   "metadata": {
    "execution": {
     "iopub.execute_input": "2022-03-05T14:33:44.891926Z",
     "iopub.status.busy": "2022-03-05T14:33:44.891752Z",
     "iopub.status.idle": "2022-03-05T14:33:44.897175Z",
     "shell.execute_reply": "2022-03-05T14:33:44.896427Z",
     "shell.execute_reply.started": "2022-03-05T14:33:44.891908Z"
    },
    "tags": []
   },
   "outputs": [
    {
     "data": {
      "text/plain": [
       "array([20.93406586, 11.47888873])"
      ]
     },
     "execution_count": 6,
     "metadata": {},
     "output_type": "execute_result"
    }
   ],
   "source": [
    "S"
   ]
  },
  {
   "cell_type": "markdown",
   "id": "a8f2c474-4e48-4fd0-8b88-7ababc5e4cdf",
   "metadata": {},
   "source": [
    "Pad sigma matrix with a column of zeros to get (2,3) shape"
   ]
  },
  {
   "cell_type": "code",
   "execution_count": 7,
   "id": "943772a5-7512-44fc-a9e4-a4bcb0b8b5b2",
   "metadata": {
    "execution": {
     "iopub.execute_input": "2022-03-05T14:33:44.898190Z",
     "iopub.status.busy": "2022-03-05T14:33:44.898008Z",
     "iopub.status.idle": "2022-03-05T14:33:44.906853Z",
     "shell.execute_reply": "2022-03-05T14:33:44.905228Z",
     "shell.execute_reply.started": "2022-03-05T14:33:44.898170Z"
    },
    "tags": []
   },
   "outputs": [
    {
     "data": {
      "text/plain": [
       "array([[20.9,  0. ,  0. ],\n",
       "       [ 0. , 11.5,  0. ]])"
      ]
     },
     "execution_count": 7,
     "metadata": {},
     "output_type": "execute_result"
    }
   ],
   "source": [
    "Sigma = np.hstack((np.multiply(S, np.eye(2)),[[0],[0]]))\n",
    "np.round(Sigma,1)"
   ]
  },
  {
   "cell_type": "markdown",
   "id": "3479f403-ec23-41a7-b4a9-ed67d5b85c91",
   "metadata": {},
   "source": [
    "Vt"
   ]
  },
  {
   "cell_type": "code",
   "execution_count": 8,
   "id": "d547cde1-473a-4ca4-81b8-120a50723935",
   "metadata": {
    "execution": {
     "iopub.execute_input": "2022-03-05T14:33:44.907672Z",
     "iopub.status.busy": "2022-03-05T14:33:44.907488Z",
     "iopub.status.idle": "2022-03-05T14:33:44.913502Z",
     "shell.execute_reply": "2022-03-05T14:33:44.912667Z",
     "shell.execute_reply.started": "2022-03-05T14:33:44.907651Z"
    },
    "tags": []
   },
   "outputs": [
    {
     "data": {
      "text/plain": [
       "array([[ 0.9,  0.3,  0. ],\n",
       "       [-0.3,  0.9, -0. ],\n",
       "       [-0. ,  0. ,  1. ]])"
      ]
     },
     "execution_count": 8,
     "metadata": {},
     "output_type": "execute_result"
    }
   ],
   "source": [
    "np.round(Vt,1)"
   ]
  },
  {
   "cell_type": "code",
   "execution_count": 9,
   "id": "25de6830-f271-438a-9ab2-7de075c5d58e",
   "metadata": {
    "execution": {
     "iopub.execute_input": "2022-03-05T14:33:44.914272Z",
     "iopub.status.busy": "2022-03-05T14:33:44.914087Z",
     "iopub.status.idle": "2022-03-05T14:33:44.922206Z",
     "shell.execute_reply": "2022-03-05T14:33:44.920629Z",
     "shell.execute_reply.started": "2022-03-05T14:33:44.914252Z"
    },
    "tags": []
   },
   "outputs": [
    {
     "data": {
      "text/plain": [
       "array([[19.6,  7.3,  1. ],\n",
       "       [-4. , 10.8, -0.2]])"
      ]
     },
     "execution_count": 9,
     "metadata": {},
     "output_type": "execute_result"
    }
   ],
   "source": [
    "X = np.dot(Sigma,Vt)\n",
    "np.round(X,1)"
   ]
  },
  {
   "cell_type": "code",
   "execution_count": 10,
   "id": "36488f3e-c1cd-408e-9ec4-5d06d78c16bf",
   "metadata": {
    "execution": {
     "iopub.execute_input": "2022-03-05T14:33:44.922970Z",
     "iopub.status.busy": "2022-03-05T14:33:44.922818Z",
     "iopub.status.idle": "2022-03-05T14:33:44.934543Z",
     "shell.execute_reply": "2022-03-05T14:33:44.933473Z",
     "shell.execute_reply.started": "2022-03-05T14:33:44.922951Z"
    },
    "tags": []
   },
   "outputs": [
    {
     "data": {
      "text/plain": [
       "array([[20.,  5.,  1.],\n",
       "       [ 0., 12.,  0.]])"
      ]
     },
     "execution_count": 10,
     "metadata": {},
     "output_type": "execute_result"
    }
   ],
   "source": [
    "np.round(np.dot(U, X),1)"
   ]
  },
  {
   "cell_type": "code",
   "execution_count": 11,
   "id": "8a7429e7-9c73-4e72-8106-a5af6254e939",
   "metadata": {
    "execution": {
     "iopub.execute_input": "2022-03-05T14:33:44.935286Z",
     "iopub.status.busy": "2022-03-05T14:33:44.935122Z",
     "iopub.status.idle": "2022-03-05T14:33:44.940574Z",
     "shell.execute_reply": "2022-03-05T14:33:44.939787Z",
     "shell.execute_reply.started": "2022-03-05T14:33:44.935266Z"
    },
    "tags": []
   },
   "outputs": [
    {
     "data": {
      "text/plain": [
       "array([[19.6,  7.3,  1. ],\n",
       "       [-4. , 10.8, -0.2]])"
      ]
     },
     "execution_count": 11,
     "metadata": {},
     "output_type": "execute_result"
    }
   ],
   "source": [
    "np.round(np.dot(U.T,R),1)"
   ]
  }
 ],
 "metadata": {
  "kernelspec": {
   "display_name": "Python 3 (ipykernel)",
   "language": "python",
   "name": "python3"
  },
  "language_info": {
   "codemirror_mode": {
    "name": "ipython",
    "version": 3
   },
   "file_extension": ".py",
   "mimetype": "text/x-python",
   "name": "python",
   "nbconvert_exporter": "python",
   "pygments_lexer": "ipython3",
   "version": "3.9.7"
  }
 },
 "nbformat": 4,
 "nbformat_minor": 5
}
