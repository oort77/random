{
 "cells": [
  {
   "cell_type": "markdown",
   "metadata": {
    "colab_type": "text",
    "id": "view-in-github"
   },
   "source": [
    "<a href=\"https://colab.research.google.com/github/oort77/random/blob/main/DTrees_2_5.ipynb\" target=\"_parent\"><img src=\"https://colab.research.google.com/assets/colab-badge.svg\" alt=\"Open In Colab\"/></a>"
   ]
  },
  {
   "cell_type": "markdown",
   "metadata": {
    "id": "uX1PoPQnnOw3"
   },
   "source": [
    "#### OTUS ML.pro - L4"
   ]
  },
  {
   "cell_type": "code",
   "execution_count": null,
   "metadata": {
    "ExecuteTime": {
     "end_time": "2021-12-14T20:13:39.760768Z",
     "start_time": "2021-12-14T20:13:39.749926Z"
    },
    "id": "9L6KxHcQLeBX"
   },
   "outputs": [],
   "source": [
    "# Import libraries\n",
    "from sklearn.tree import DecisionTreeRegressor\n",
    "import matplotlib.pyplot as plt\n",
    "import numpy as np\n",
    "%config InlineBackend.figure_format = 'retina'\n",
    "\n",
    "def f(x):\n",
    "    return np.sin(x)\n",
    "random_state = 42\n",
    "\n",
    "# Max decision tree depth -> play with me))\n",
    "depth_range = range(2, 6)"
   ]
  },
  {
   "cell_type": "code",
   "execution_count": null,
   "metadata": {
    "ExecuteTime": {
     "end_time": "2021-12-14T20:13:40.922421Z",
     "start_time": "2021-12-14T20:13:40.382080Z"
    },
    "id": "FnBhf6JOL187"
   },
   "outputs": [],
   "source": [
    "# Try different tree depth\n",
    "\n",
    "for depth in depth_range:\n",
    "    # Generate data\n",
    "    rng = np.random.RandomState(random_state)\n",
    "    X = np.sort(5 * rng.rand(80, 1), axis=0)\n",
    "    y = f(X).ravel()\n",
    "    y[::5] += 3 * (0.5 - rng.rand(16))   \n",
    "\n",
    "    # Generate test smaple\n",
    "    X_test = np.arange(0.0, 5.0, 0.01)[:, np.newaxis]\n",
    "    \n",
    "    # Create a model\n",
    "    reg = DecisionTreeRegressor(max_depth=depth)\n",
    "\n",
    "    # Fit the model\n",
    "    reg.fit(X, y)\n",
    "    \n",
    "    # Make predictions\n",
    "    y_hat = reg.predict(X_test)\n",
    "    \n",
    "    # Plot\n",
    "    plt.figure(figsize=(10, 5))\n",
    "    \n",
    "    plt.plot(X_test, y_hat, label=f'depth={depth}', color='g', linewidth=2)\n",
    "    plt.scatter(X, y, label='data', edgecolor=\"black\", c=\"darkorange\")#, label=\"data\"\n",
    "\n",
    "    plt.xticks(size=12)\n",
    "    plt.xlabel(\"X\", size=12)\n",
    "    plt.yticks(size=12)\n",
    "    plt.ylabel(\"y\", size=12)\n",
    "    plt.legend(loc='best', fontsize=12)\n",
    "    plt.grid(b=1)\n",
    "    \n",
    "plt.show()"
   ]
  },
  {
   "cell_type": "code",
   "execution_count": null,
   "metadata": {
    "id": "33StP_IznqGq"
   },
   "outputs": [],
   "source": []
  }
 ],
 "metadata": {
  "colab": {
   "collapsed_sections": [],
   "include_colab_link": true,
   "name": "DTrees_2_5.ipynb",
   "provenance": []
  },
  "kernelspec": {
   "display_name": "Python 3 (ipykernel)",
   "language": "python",
   "name": "python3"
  },
  "language_info": {
   "codemirror_mode": {
    "name": "ipython",
    "version": 3
   },
   "file_extension": ".py",
   "mimetype": "text/x-python",
   "name": "python",
   "nbconvert_exporter": "python",
   "pygments_lexer": "ipython3",
   "version": "3.8.12"
  }
 },
 "nbformat": 4,
 "nbformat_minor": 4
}
